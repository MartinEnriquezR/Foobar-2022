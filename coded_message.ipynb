{
 "cells": [
  {
   "cell_type": "code",
   "execution_count": 22,
   "metadata": {},
   "outputs": [
    {
     "data": {
      "text/plain": [
       "'\\nCasos que no funcionan\\n[2,2] sum = 4 , m = 1  \\n[4,4] sum = 8 , m = 2\\n[5,5] sum = 10 , m = 1\\n[7,7] sum = 14 , m = 2\\n[8,8] sum = 16 , m = 1\\n[1,1,1,1,1] sum = 5 , m = 2\\n[1,1,1,1,1,1,1] sum = 7 , m = 2\\n\\n'"
      ]
     },
     "execution_count": 22,
     "metadata": {},
     "output_type": "execute_result"
    }
   ],
   "source": [
    "\"\"\"\n",
    "[8,8,8,8,8] sum = 40, m = 1\n",
    "8 % 3 = 2\n",
    "nm = 3 - 2 = 1\n",
    "\"\"\""
   ]
  },
  {
   "cell_type": "code",
   "execution_count": 55,
   "metadata": {},
   "outputs": [],
   "source": [
    "def solution(l):\n",
    "    f = False              #flag\n",
    "    l.sort()               #sort the list\n",
    "    s = sum(l)             #sum of the elements in the list\n",
    "    m = s % 3              #get the remainder\n",
    "    \n",
    "    #the sum must not be smaller than 3\n",
    "    if s < 3:              \n",
    "        return '0'\n",
    "    \n",
    "    #the remainder is 0\n",
    "    if m == 0:             \n",
    "        l.sort(reverse = True)\n",
    "        return ''.join(str(i) for i in l)\n",
    "    \n",
    "    # find the number that has the same remainder as the previously calculated\n",
    "    elif m != 0:\n",
    "        c = l[:]                     #copy of the original list\n",
    "        for i in range(len(c)):\n",
    "            if c[i] % 3 == m:        #find the remainder\n",
    "                c.pop(i)             #remove the element form the list\n",
    "                f = True             #disable the flag\n",
    "                return isValid(c)    #validate the new list\n",
    "    \n",
    "    #remainder not found in the previous section\n",
    "    if f == False: \n",
    "        nm = 3 - m                      #new remainder\n",
    "        c = l[:]                        #copy of the list\n",
    "        for i in range(2):              #iterate two times\n",
    "            for j in range(len(c)):     \n",
    "                if c[j] % 3 == nm:      #find the element to remove\n",
    "                    c.pop(j)\n",
    "                    break                                    \n",
    "        return isValid(c)               #validate the result\n",
    "        \n",
    "def isValid(l):\n",
    "    s = sum(l)                              #sum of the list\n",
    "    if s > 2 and s % 3 == 0:                #sum greater than two and a remainder equal to 0\n",
    "        l.sort(reverse = True)              #sort the result in reverse mode\n",
    "        return ''.join(str(i) for i in l)   \n",
    "    else:\n",
    "        return '0'"
   ]
  },
  {
   "cell_type": "code",
   "execution_count": 56,
   "metadata": {},
   "outputs": [
    {
     "name": "stdout",
     "output_type": "stream",
     "text": [
      "111\n",
      "111\n",
      "111111\n",
      "888\n"
     ]
    }
   ],
   "source": [
    "print(solution([1,1,1,1]))\n",
    "print(solution([1,1,1,1,1]))\n",
    "print(solution([1,1,1,1,1,1,1]))\n",
    "print(solution([8,8,8,8,8]))"
   ]
  },
  {
   "cell_type": "code",
   "execution_count": null,
   "metadata": {},
   "outputs": [],
   "source": []
  }
 ],
 "metadata": {
  "kernelspec": {
   "display_name": "Python 2",
   "language": "python",
   "name": "python2"
  },
  "language_info": {
   "codemirror_mode": {
    "name": "ipython",
    "version": 2
   },
   "file_extension": ".py",
   "mimetype": "text/x-python",
   "name": "python",
   "nbconvert_exporter": "python",
   "pygments_lexer": "ipython2",
   "version": "2.7.16"
  }
 },
 "nbformat": 4,
 "nbformat_minor": 2
}
