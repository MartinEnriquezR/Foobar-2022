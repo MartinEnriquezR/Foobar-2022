{
 "cells": [
  {
   "cell_type": "markdown",
   "metadata": {},
   "source": [
    "# Problem \n",
    "Oh no! Commander Lambda's latest experiment to improve the efficiency of the LAMBCHOP doomsday device has backfired spectacularly. The Commander had been improving the structure of the ion flux converter tree, but something went terribly wrong and the flux chains exploded. Some of the ion flux converters survived the explosion intact, but others had their position labels blasted off. Commander Lambda is having her henchmen rebuild the ion flux converter tree by hand, but you think you can do it much more quickly -- quickly enough, perhaps, to earn a promotion!\n",
    "\n",
    "Flux chains require perfect binary trees, so Lambda's design arranged the ion flux converters to form one. To label them, Lambda performed a post-order traversal of the tree of converters and labeled each converter with the order of that converter in the traversal, starting at 1. For example, a tree of 7 converters would look like the following:\n",
    "\n",
    "    7\n",
    "  3   6\n",
    " 1 2 4 5\n",
    "xx xx xx xx cantidad de elementos (2^h)-1  7 3 1 2 6 4 5\n",
    "\n",
    "Write a function solution(h, q) - where h is the height of the perfect tree of converters and q is a list of positive integers representing different flux converters - which returns a list of integers p where each element in p is the label of the converter that sits on top of the respective converter in q, or -1 if there is no such converter.  For example, solution(3, [1, 4, 7]) would return the converters above the converters at indexes 1, 4, and 7 in a perfect binary tree of height 3, which is [3, 6, -1].\n",
    "\n",
    "The domain of the integer h is 1 <= h <= 30, where h = 1 represents a perfect binary tree containing only the root, h = 2 represents a perfect binary tree with the root and two leaf nodes, h = 3 represents a perfect binary tree with the root, two internal nodes and four leaf nodes (like the example above), and so forth.  The lists q and p contain at least one but no more than 10000 distinct integers, all of which will be between 1 and 2^h-1, inclusive.\n",
    "\n",
    "\n",
    "-- Python cases --\n",
    "Input:\n",
    "solution.solution(3, [7, 3, 5, 1])\n",
    "Output:\n",
    "    -1,7,6,3\n",
    "\n",
    "Input:\n",
    "solution.solution(5, [19, 14, 28])\n",
    "Output:\n",
    "    21,15,29\n"
   ]
  },
  {
   "cell_type": "code",
   "execution_count": 19,
   "metadata": {},
   "outputs": [],
   "source": [
    "class Node:\n",
    "    def __init__(self,v):\n",
    "        self.val = v\n",
    "        self.left = None\n",
    "        self.right = None\n",
    "\n",
    "# A function to do postorder tree traversal\n",
    "def postOrder(node):\n",
    "    if node:\n",
    "        postOrder(node.left)\n",
    "        postOrder(node.right)\n",
    "        print(\"Value: \" + str(node.val))\n",
    "\n",
    "# funcion para realizar un arbol especificando el value y el tamaño        \n",
    "def buildTree(l,h):\n",
    "    node = Node(l.pop())\n",
    "    if h == 1:\n",
    "        return node\n",
    "    node.right = buildTree(l,h-1)\n",
    "    node.left = buildTree(l,h-1)\n",
    "    return node\n",
    "\n",
    "        \n",
    "def find(node,value):\n",
    "    if node is None:\n",
    "        return\n",
    "    if node.val == value:\n",
    "        return node\n",
    "    if (node.left is not None and node.left.val == value) or (node.right is not None and node.right.val == value):\n",
    "        return node\n",
    "    \n",
    "    n = find(node.left,value)\n",
    "    if n is not None:\n",
    "        return n\n",
    "    n = find(node.right,value)\n",
    "    return n\n"
   ]
  },
  {
   "cell_type": "code",
   "execution_count": 21,
   "metadata": {},
   "outputs": [
    {
     "name": "stdout",
     "output_type": "stream",
     "text": [
      "[-1, 7, 6, 3]\n",
      "[21, 15, 29]\n"
     ]
    }
   ],
   "source": [
    "#from IPython.core.debugger import set_trace    #debuger\n",
    "\"\"\"\n",
    "# funcion para buscar el padre dado un numero\n",
    "def findx(node,value,parent):\n",
    "    #set_trace()\n",
    "    if node is None:\n",
    "        return\n",
    "    if node.val == value:\n",
    "        print(parent)\n",
    "        return parent\n",
    "    else:\n",
    "        findx(node.left,value,node.val)\n",
    "        findx(node.right,value,node.val)\n",
    "\"\"\"\n",
    "        \n",
    "def solution(h,q):\n",
    "        numbers = list(range(1,2**h))       #list of numbers\n",
    "        tree = buildTree(numbers,h)         #building the tree\n",
    "        p = []                              #result list\n",
    "        for v in q:\n",
    "            n = find(tree,v)                #find the parent node\n",
    "            p.append(-1) if n.val == v else p.append(n.val)                \n",
    "        return p\n",
    "        \n",
    "print(solution(3,[7, 3, 5, 1]))\n",
    "# -1,7,6,3\n",
    "print(solution(5, [19, 14, 28]))\n",
    "# 21,15,29"
   ]
  },
  {
   "cell_type": "code",
   "execution_count": 7,
   "metadata": {},
   "outputs": [
    {
     "name": "stdout",
     "output_type": "stream",
     "text": [
      "algo\n",
      "None\n"
     ]
    }
   ],
   "source": [
    "def algo():\n",
    "    i = True\n",
    "    if i == False:\n",
    "        pass\n",
    "    else:\n",
    "        print(\"algo\")\n",
    "c = algo()\n",
    "print(c)"
   ]
  },
  {
   "cell_type": "code",
   "execution_count": null,
   "metadata": {},
   "outputs": [],
   "source": []
  }
 ],
 "metadata": {
  "kernelspec": {
   "display_name": "Python 2",
   "language": "python",
   "name": "python2"
  },
  "language_info": {
   "codemirror_mode": {
    "name": "ipython",
    "version": 2
   },
   "file_extension": ".py",
   "mimetype": "text/x-python",
   "name": "python",
   "nbconvert_exporter": "python",
   "pygments_lexer": "ipython2",
   "version": "2.7.16"
  }
 },
 "nbformat": 4,
 "nbformat_minor": 2
}
