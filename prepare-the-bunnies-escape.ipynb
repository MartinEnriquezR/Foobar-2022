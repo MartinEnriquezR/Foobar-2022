{
 "cells": [
  {
   "cell_type": "markdown",
   "metadata": {},
   "source": [
    "Prepare the Bunnies' Escape\n",
    "===========================\n",
    "\n",
    "You're awfully close to destroying the LAMBCHOP doomsday device and freeing Commander Lambda's bunny workers, but once they're free of the work duties the bunnies are going to need to escape Lambda's space station via the escape pods as quickly as possible. Unfortunately, the halls of the space station are a maze of corridors and dead ends that will be a deathtrap for the escaping bunnies. Fortunately, Commander Lambda has put you in charge of a remodeling project that will give you the opportunity to make things a little easier for the bunnies. Unfortunately (again), you can't just remove all obstacles between the bunnies and the escape pods - at most you can remove one wall per escape pod path, both to maintain structural integrity of the station and to avoid arousing Commander Lambda's suspicions. \n",
    "\n",
    "You have maps of parts of the space station, each starting at a work area exit and ending at the door to an escape pod. The map is represented as a matrix of 0s and 1s, where 0s are passable space and 1s are impassable walls. The door out of the station is at the top left (0,0) and the door into an escape pod is at the bottom right (w-1,h-1). \n",
    "\n",
    "Write a function solution(map) that generates the length of the shortest path from the station door to the escape pod, where you are allowed to remove one wall as part of your remodeling plans. The path length is the total number of nodes you pass through, counting both the entrance and exit nodes. The starting and ending positions are always passable (0). The map will always be solvable, though you may or may not need to remove a wall. The height and width of the map can be from 2 to 20. Moves can only be made in cardinal directions; no diagonal moves are allowed.\n",
    "\n",
    "-- Python cases --\n",
    "Input:\n",
    "solution.solution([[0, 1, 1, 0], [0, 0, 0, 1], [1, 1, 0, 0], [1, 1, 1, 0]])\n",
    "Output:\n",
    "    7\n",
    "\n",
    "Input:\n",
    "solution.solution([[0, 0, 0, 0, 0, 0], [1, 1, 1, 1, 1, 0], [0, 0, 0, 0, 0, 0], [0, 1, 1, 1, 1, 1], [0, 1, 1, 1, 1, 1], [0, 0, 0, 0, 0, 0]])\n",
    "Output:\n",
    "    11"
   ]
  },
  {
   "cell_type": "markdown",
   "metadata": {},
   "source": [
    " >\n",
    "[0, 1, 1, 0]\n",
    "[0, 0, 0, 1]\n",
    "[1, 1, 0, 0]\n",
    "[1, 1, 1, 0] <=\n",
    "Output:\n",
    "7\n",
    "\n",
    ">\n",
    "[S, 1, 2, 3, 4, 5]\n",
    "[1, X, X, X, X, 6]\n",
    "[2, 3, 10, 9, 8, 7]\n",
    "[3, X, X, X, X, X]\n",
    "[4, X, X, X, X, X]\n",
    "[5, 6, 7, 8, 9, G]<=\n",
    "Output:\n",
    "    11"
   ]
  },
  {
   "cell_type": "code",
   "execution_count": 3,
   "metadata": {},
   "outputs": [
    {
     "name": "stdout",
     "output_type": "stream",
     "text": [
      "deque([(0, 0), (1, 0), (0, 1), (2, 0), (0, 2), (3, 0), (1, 2), (0, 3), (4, 0), (2, 2), (0, 4), (5, 0), (3, 2), (0, 5), (5, 1), (4, 2), (1, 5), (5, 2), (2, 5), (3, 5), (4, 5), (5, 5)])\n"
     ]
    }
   ],
   "source": [
    "from collections import deque\n",
    "\n",
    "def solution(m):\n",
    "    #lenght of the shortest path from the station door to the escape pod\n",
    "    #path length total number of nodes you pass through\n",
    "    #moves can only be made in cardinal directions\n",
    "    \n",
    "    rows = len(m)                     #rows     Y\n",
    "    columns = len(m[0])               #columns  X\n",
    "    end = rows-1, columns-1           #goal point\n",
    "    wall,clear,goal = 1,0,'G'         #auxiliar variables\n",
    "    m[end[0]][end[1]] = goal\n",
    "        \n",
    "    queue = deque()                   #init the queue (list)\n",
    "    seen = deque()\n",
    "    queue.append( (0,0) )             #add the start point as a tuple   \n",
    "    seen.append( (0,0) )             #add the first element to the seen set\n",
    "\n",
    "    counter = 0\n",
    "    while queue:\n",
    "        point = queue.popleft()       #pop the first element of the queue\n",
    "        x,y = point                   #point in the matrix\n",
    "        if m[y][x] == goal:\n",
    "            print(seen)\n",
    "            \n",
    "        #cardinal directions\n",
    "        for x2, y2 in ( (x+1,y),(x-1,y),(x,y+1),(x,y-1) ):\n",
    "            if (0 <= x2 < columns and 0 <= y2 < rows and         #x,y range\n",
    "                m[y2][x2] != wall and                            #not a wall\n",
    "                (x2, y2) not in seen):                           #not visited\n",
    "                queue.append( (x2,y2) )\n",
    "                seen.append( (x2,y2) )\n",
    "                counter += 1\n",
    "#test maps\n",
    "map1 = [[0, 1, 1, 0],\n",
    "        [0, 0, 0, 1],\n",
    "        [1, 1, 0, 0],\n",
    "        [1, 1, 1, 0]]\n",
    "\n",
    "map2 = [[0, 0, 0, 0, 0, 0],\n",
    "        [0, 1, 1, 1, 1, 0],\n",
    "        [0, 0, 0, 0, 0, 0],\n",
    "        [0, 1, 1, 1, 1, 1],\n",
    "        [0, 1, 1, 1, 1, 1],\n",
    "        [0, 0, 0, 0, 0, 0]]\n",
    "\n",
    "map3 = [\n",
    "        [0,1,1],\n",
    "        [0,0,0]]\n",
    "\n",
    "\n",
    "#test solution\n",
    "#print(solution(map1))\n",
    "solution(map2)\n",
    "#print(solution(map3))\n",
    "#solution(map2)"
   ]
  },
  {
   "cell_type": "code",
   "execution_count": null,
   "metadata": {},
   "outputs": [],
   "source": []
  },
  {
   "cell_type": "code",
   "execution_count": null,
   "metadata": {},
   "outputs": [],
   "source": []
  }
 ],
 "metadata": {
  "kernelspec": {
   "display_name": "Python 2",
   "language": "python",
   "name": "python2"
  },
  "language_info": {
   "codemirror_mode": {
    "name": "ipython",
    "version": 2
   },
   "file_extension": ".py",
   "mimetype": "text/x-python",
   "name": "python",
   "nbconvert_exporter": "python",
   "pygments_lexer": "ipython2",
   "version": "2.7.16"
  }
 },
 "nbformat": 4,
 "nbformat_minor": 2
}
