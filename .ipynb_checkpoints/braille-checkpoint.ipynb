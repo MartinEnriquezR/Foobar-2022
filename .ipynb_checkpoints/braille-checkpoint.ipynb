{
 "cells": [
  {
   "cell_type": "code",
   "execution_count": 34,
   "metadata": {},
   "outputs": [],
   "source": [
    "ascii_letters = {\n",
    "    32:['0','0','0','0','0','0'],  #space\n",
    "    97:['1','0','0','0','0','0'],  #a\n",
    "    98:['1','1','0','0','0','0'],  #b\n",
    "    99:['1','0','0','1','0','0'],  #c\n",
    "    100:['1','0','0','1','1','0'], #d\n",
    "    101:['1','0','0','0','1','0'], #e\n",
    "    102:['1','1','0','1','0','0'], #f\n",
    "    103:['1','1','0','1','1','0'], #g\n",
    "    104:['1','1','0','0','1','0'], #h\n",
    "    105:['0','1','0','1','0','0'], #i\n",
    "    106:['0','1','0','1','1','0'], #j\n",
    "    'c':['0','0','0','0','0','1']  #capital sign\n",
    "}\n",
    "\n",
    "def solution(s):\n",
    "    b = ''              #braille message\n",
    "    for c in s:         #iterating the given string\n",
    "        o = ord(c)      #unicode\n",
    "        #detect capital letter and add the sign\n",
    "        if o >= 65 and o <= 90:\n",
    "            o += 32   # capital to lower\n",
    "            b += ''.join(ascii_letters['c'])\n",
    "        #detect letters from a - j\n",
    "        if o <= 106:    \n",
    "            b += ''.join(ascii_letters[o])\n",
    "        #detect letters from k - t\n",
    "        elif o <= 116:  \n",
    "            o -= 10\n",
    "            b += aux(ascii_letters[o][:],2)\n",
    "        #detect letters u,v\n",
    "        elif o <= 118:\n",
    "            o -= 20\n",
    "            b += aux(ascii_letters[o][:],2,5)\n",
    "        #detect letter w\n",
    "        elif o == 119:\n",
    "            o -= 13\n",
    "            b += aux(ascii_letters[o][:],5)\n",
    "        #detect letters x,y,z\n",
    "        elif o <= 122:\n",
    "            o -= 21\n",
    "            b += aux(ascii_letters[o][:],2,5)\n",
    "        else:\n",
    "            b = \"Input a valid string\"\n",
    "    return b\n",
    "\n",
    "def aux(l, *args):\n",
    "    for i in args:\n",
    "        l[i] = '1'\n",
    "    return ''.join(l)\n",
    "\n",
    "var = \"The quick brown fox jumps over the lazy dog\"\n",
    "r = solution(var)"
   ]
  },
  {
   "cell_type": "code",
   "execution_count": 35,
   "metadata": {},
   "outputs": [
    {
     "name": "stdout",
     "output_type": "stream",
     "text": [
      "True\n"
     ]
    }
   ],
   "source": [
    "original = \"000001011110110010100010000000111110101001010100100100101000000000110000111010101010010111101110000000110100101010101101000000010110101001101100111100011100000000101010111001100010111010000000011110110010100010000000111000100000101011101111000000100110101010110110\"\n",
    "print( r == original)"
   ]
  },
  {
   "cell_type": "code",
   "execution_count": null,
   "metadata": {},
   "outputs": [],
   "source": []
  }
 ],
 "metadata": {
  "kernelspec": {
   "display_name": "Python 2",
   "language": "python",
   "name": "python2"
  },
  "language_info": {
   "codemirror_mode": {
    "name": "ipython",
    "version": 2
   },
   "file_extension": ".py",
   "mimetype": "text/x-python",
   "name": "python",
   "nbconvert_exporter": "python",
   "pygments_lexer": "ipython2",
   "version": "2.7.16"
  }
 },
 "nbformat": 4,
 "nbformat_minor": 5
}
