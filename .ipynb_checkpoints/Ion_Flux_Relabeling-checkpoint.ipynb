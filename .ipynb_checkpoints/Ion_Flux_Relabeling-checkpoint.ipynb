{
 "cells": [
  {
   "cell_type": "markdown",
   "metadata": {},
   "source": [
    "# Problem \n",
    "Oh no! Commander Lambda's latest experiment to improve the efficiency of the LAMBCHOP doomsday device has backfired spectacularly. The Commander had been improving the structure of the ion flux converter tree, but something went terribly wrong and the flux chains exploded. Some of the ion flux converters survived the explosion intact, but others had their position labels blasted off. Commander Lambda is having her henchmen rebuild the ion flux converter tree by hand, but you think you can do it much more quickly -- quickly enough, perhaps, to earn a promotion!\n",
    "\n",
    "Flux chains require perfect binary trees, so Lambda's design arranged the ion flux converters to form one. To label them, Lambda performed a post-order traversal of the tree of converters and labeled each converter with the order of that converter in the traversal, starting at 1. For example, a tree of 7 converters would look like the following:\n",
    "\n",
    "    7\n",
    "  3   6\n",
    " 1 2 4 5\n",
    "xx xx xx xx cantidad de elementos (2^h)-1  7 3 1 2 6 4 5\n",
    "\n",
    "Write a function solution(h, q) - where h is the height of the perfect tree of converters and q is a list of positive integers representing different flux converters - which returns a list of integers p where each element in p is the label of the converter that sits on top of the respective converter in q, or -1 if there is no such converter.  For example, solution(3, [1, 4, 7]) would return the converters above the converters at indexes 1, 4, and 7 in a perfect binary tree of height 3, which is [3, 6, -1].\n",
    "\n",
    "The domain of the integer h is 1 <= h <= 30, where h = 1 represents a perfect binary tree containing only the root, h = 2 represents a perfect binary tree with the root and two leaf nodes, h = 3 represents a perfect binary tree with the root, two internal nodes and four leaf nodes (like the example above), and so forth.  The lists q and p contain at least one but no more than 10000 distinct integers, all of which will be between 1 and 2^h-1, inclusive.\n",
    "\n",
    "\n",
    "-- Python cases --\n",
    "Input:\n",
    "solution.solution(3, [7, 3, 5, 1])\n",
    "Output:\n",
    "    -1,7,6,3\n",
    "\n",
    "Input:\n",
    "solution.solution(5, [19, 14, 28])\n",
    "Output:\n",
    "    21,15,29\n"
   ]
  },
  {
   "cell_type": "code",
   "execution_count": 26,
   "metadata": {},
   "outputs": [
    {
     "data": {
      "text/plain": [
       "[-1, None]"
      ]
     },
     "execution_count": 26,
     "metadata": {},
     "output_type": "execute_result"
    }
   ],
   "source": [
    "class Node:\n",
    "    def __init__(self,v):\n",
    "        self.val = v\n",
    "        self.left = None\n",
    "        self.right = None\n",
    "\n",
    "# A function to do postorder tree traversal\n",
    "def postOrder(node):\n",
    "    if node:\n",
    "        postOrder(node.left)\n",
    "        postOrder(node.right)\n",
    "        print(\"Value: \" + str(node.val))\n",
    "\n",
    "# funcion para realizar un arbol especificando el value y el tamaño        \n",
    "def buildTree(l,h):\n",
    "    node = Node(l.pop())\n",
    "    if h == 1:\n",
    "        return node\n",
    "    node.right = buildTree(l,h-1)\n",
    "    node.left = buildTree(l,h-1)\n",
    "    return node\n",
    "\n",
    "# funcion para buscar el padre dado un numero\n",
    "def find(node,value,parent):\n",
    "    if node is None:\n",
    "        return None\n",
    "    if node.val == value:\n",
    "        return parent\n",
    "    else:\n",
    "        find(node.left,value,node.val)\n",
    "        find(node.right,value,node.val)\n",
    "        \n",
    "def other(node,value,parent):\n",
    "    if node:\n",
    "        if node.val == value:\n",
    "            return parent\n",
    "        else:\n",
    "            other(node.left,value,node.val)\n",
    "            other(node.right,value,node.val)\n",
    "    else:\n",
    "        return 'ger'\n",
    "\n",
    "def solution(h,q):\n",
    "        numbers = list(range(1,2**h))       #list of numbers\n",
    "        tree = buildTree(numbers,h)         #building the tree\n",
    "        p = []\n",
    "        for i in q:\n",
    "            p.append(find(tree,i,-1))       #find the father of each element\n",
    "        return p                            #result\n",
    "        \n",
    "        \n",
    "solution(3,[7,1])\n",
    "# -1,7,6,3\n",
    "#solution(5, [19, 14, 28])\n",
    "# 21,15,29\n"
   ]
  },
  {
   "cell_type": "code",
   "execution_count": null,
   "metadata": {},
   "outputs": [],
   "source": []
  }
 ],
 "metadata": {
  "kernelspec": {
   "display_name": "Python 2",
   "language": "python",
   "name": "python2"
  },
  "language_info": {
   "codemirror_mode": {
    "name": "ipython",
    "version": 2
   },
   "file_extension": ".py",
   "mimetype": "text/x-python",
   "name": "python",
   "nbconvert_exporter": "python",
   "pygments_lexer": "ipython2",
   "version": "2.7.16"
  }
 },
 "nbformat": 4,
 "nbformat_minor": 2
}
